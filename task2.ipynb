{
 "cells": [
  {
   "cell_type": "code",
   "execution_count": 1,
   "id": "22e4f66f-2384-47f3-a45b-f24116fbf472",
   "metadata": {},
   "outputs": [],
   "source": [
    "import cv2 "
   ]
  },
  {
   "cell_type": "code",
   "execution_count": 2,
   "id": "7a72b49f-c2d4-4244-b6c4-68bc9f3b3df8",
   "metadata": {},
   "outputs": [],
   "source": [
    "import numpy as np"
   ]
  },
  {
   "cell_type": "code",
   "execution_count": 3,
   "id": "d9f93269-c682-4684-9b7f-b91254dc78db",
   "metadata": {},
   "outputs": [],
   "source": [
    "img = cv2.imread('C:\\\\Users\\\\aedpu\\\\OneDrive\\\\Desktop\\\\sabarieceai\\\\vij.jpg')"
   ]
  },
  {
   "cell_type": "code",
   "execution_count": 4,
   "id": "d611fbfb-e6c3-4003-90cf-548c3e327685",
   "metadata": {},
   "outputs": [],
   "source": [
    "GREY=cv2.cvtColor(img,cv2.COLOR_BGR2GRAY)"
   ]
  },
  {
   "cell_type": "code",
   "execution_count": 5,
   "id": "d31420ad-b998-4f1d-af9f-4559df5c7318",
   "metadata": {},
   "outputs": [],
   "source": [
    "cv2.imshow(\"original image\",img)\n",
    "cv2.imshow(\"grey\",GREY)\n",
    "cv2.waitKey(0)\n",
    "cv2.destroyAllWindows()"
   ]
  },
  {
   "cell_type": "code",
   "execution_count": 6,
   "id": "801a8627-cb8c-4b42-a8ec-1b86245e23c7",
   "metadata": {},
   "outputs": [],
   "source": [
    "ret,thresh1 = cv2.threshold(GREY,200,255,cv2.THRESH_BINARY)"
   ]
  },
  {
   "cell_type": "code",
   "execution_count": 7,
   "id": "068ba443-f8dc-46bc-b612-c0faf35a9a22",
   "metadata": {},
   "outputs": [],
   "source": [
    "ret,thresh2 = cv2.threshold(GREY,127,255,cv2.THRESH_BINARY_INV)"
   ]
  },
  {
   "cell_type": "code",
   "execution_count": 8,
   "id": "6a686c50-e285-4e4a-9255-eaf881f3734c",
   "metadata": {},
   "outputs": [],
   "source": [
    "ret,thresh3 = cv2.threshold(GREY,127,255,cv2.THRESH_TRUNC)"
   ]
  },
  {
   "cell_type": "code",
   "execution_count": 9,
   "id": "3263711d-0b98-4c1e-a6d7-ce666266f236",
   "metadata": {},
   "outputs": [],
   "source": [
    "ret,thresh4 = cv2.threshold(GREY,127,255,cv2.THRESH_TOZERO)"
   ]
  },
  {
   "cell_type": "code",
   "execution_count": 10,
   "id": "875de4a9-9924-4e2c-a8d7-d72811242d62",
   "metadata": {},
   "outputs": [],
   "source": [
    "ret,thresh5 = cv2.threshold(GREY,127,255,cv2.THRESH_TOZERO_INV)"
   ]
  },
  {
   "cell_type": "code",
   "execution_count": 11,
   "id": "5bc71682-b061-4a7f-8f4a-c818780eb8aa",
   "metadata": {},
   "outputs": [],
   "source": [
    "cv2. imshow(\"grey\", GREY)\n",
    "cv2. imshow(\"Binary\", thresh1)\n",
    "cv2. imshow(\"Binary._Inv\", thresh2)\n",
    "cv2. imshow(\"Trune\", thresh3)\n",
    "cv2. imshow(\"To_Zero\", thresh4)\n",
    "cv2. imshow(\"To_Zero_Inv\", thresh5)\n",
    "cv2.waitKey(0)\n",
    "cv2. destroyAllWindows()"
   ]
  },
  {
   "cell_type": "code",
   "execution_count": 12,
   "id": "5f043551-b2da-4f14-bec0-d917be906435",
   "metadata": {},
   "outputs": [],
   "source": [
    "img = cv2.medianBlur(GREY,5)"
   ]
  },
  {
   "cell_type": "code",
   "execution_count": 13,
   "id": "eb6ea185-6ec2-440b-a4f6-64a0e70d2d13",
   "metadata": {},
   "outputs": [],
   "source": [
    "th=cv2. adaptiveThreshold(img,255, cv2.ADAPTIVE_THRESH_MEAN_C, cv2.THRESH_BINARY,3,1)"
   ]
  },
  {
   "cell_type": "code",
   "execution_count": 14,
   "id": "7c1a10e4-bf2d-4acb-b381-8eb8bd7995a6",
   "metadata": {},
   "outputs": [],
   "source": [
    "cv2.imshow(\"Blur image\" , img)\n",
    "cv2.imshow (\"Meanc\" ,th)\n",
    "cv2.waitKey(0)\n",
    "cv2.destroyAllWindows()"
   ]
  },
  {
   "cell_type": "code",
   "execution_count": null,
   "id": "ba05df82-e2a4-4717-ac16-5cc223e2eebe",
   "metadata": {},
   "outputs": [],
   "source": []
  },
  {
   "cell_type": "code",
   "execution_count": null,
   "id": "3fee8530-f6a0-4fb2-9999-74e158978223",
   "metadata": {},
   "outputs": [],
   "source": []
  },
  {
   "cell_type": "code",
   "execution_count": null,
   "id": "7af91b37-bc58-425c-a07e-40ae68c881eb",
   "metadata": {},
   "outputs": [],
   "source": []
  },
  {
   "cell_type": "code",
   "execution_count": null,
   "id": "ca3598a2-805f-4dd5-b3aa-0c16b78b1bf6",
   "metadata": {},
   "outputs": [],
   "source": []
  }
 ],
 "metadata": {
  "kernelspec": {
   "display_name": "Python 3 (ipykernel)",
   "language": "python",
   "name": "python3"
  },
  "language_info": {
   "codemirror_mode": {
    "name": "ipython",
    "version": 3
   },
   "file_extension": ".py",
   "mimetype": "text/x-python",
   "name": "python",
   "nbconvert_exporter": "python",
   "pygments_lexer": "ipython3",
   "version": "3.9.19"
  }
 },
 "nbformat": 4,
 "nbformat_minor": 5
}
